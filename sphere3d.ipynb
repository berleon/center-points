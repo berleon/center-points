{
 "metadata": {
  "name": "",
  "signature": "sha256:0480a1478b79a0a1a04ce27f0c9c43029029bf384738a9f53979314be434d3a5"
 },
 "nbformat": 3,
 "nbformat_minor": 0,
 "worksheets": [
  {
   "cells": [
    {
     "cell_type": "code",
     "collapsed": false,
     "input": [
      "%reload_ext autoreload\n",
      "%autoreload 2"
     ],
     "language": "python",
     "metadata": {},
     "outputs": [],
     "prompt_number": 1
    },
    {
     "cell_type": "code",
     "collapsed": false,
     "input": [
      "from centerpoints.helpers import sphere_points, random_sphere_points\n",
      "from centerpoints.iterated_tverberg import IteratedTverberg\n",
      "from centerpoints.clarkson import ClarksonAlgo\n",
      "import centerpoints.cli as cli\n",
      "import numpy as np\n",
      "import math\n",
      "from math import cos, sin, pi"
     ],
     "language": "python",
     "metadata": {},
     "outputs": [],
     "prompt_number": 2
    },
    {
     "cell_type": "code",
     "collapsed": false,
     "input": [
      "it = IteratedTverberg()\n",
      "cl = ClarksonAlgo()\n",
      "cl2 = ClarksonAlgo(True)"
     ],
     "language": "python",
     "metadata": {},
     "outputs": [],
     "prompt_number": 3
    },
    {
     "cell_type": "code",
     "collapsed": false,
     "input": [
      "import matplotlib\n",
      "matplotlib.use('PDF')\n",
      "import matplotlib.pyplot as plt\n",
      "from mpl_toolkits.mplot3d import Axes3D"
     ],
     "language": "python",
     "metadata": {},
     "outputs": [],
     "prompt_number": 4
    },
    {
     "cell_type": "code",
     "collapsed": false,
     "input": [
      "with open('./evaluation/sphere-3d-random-50-500.csv') as file:\n",
      "    s = cli.read_points_csv(file, '\\t')\n",
      "    \n",
      "p = it.centerpoint(s)\n",
      "p1 = cl.centerpoint(s)\n",
      "p2 = cl2.centerpoint(s)\n",
      "\n",
      "s = np.asarray(s)\n",
      "\n",
      "fig = plt.figure()\n",
      "ax = fig.add_subplot(111, projection=\"3d\")\n",
      "ax.scatter(s[:,0],s[:,1],s[:,2], c='b', s=15)\n",
      "ax.scatter(*p, s=25, c='red')\n",
      "ax.scatter(*p1, s=25, c='yellow')\n",
      "ax.scatter(*p2, s=25, c='orange')\n",
      "fig.savefig('random_sphere.pdf')"
     ],
     "language": "python",
     "metadata": {},
     "outputs": [],
     "prompt_number": 6
    },
    {
     "cell_type": "code",
     "collapsed": false,
     "input": [
      "with open('./evaluation/sphere-3d-50-500.csv') as file:\n",
      "    s = cli.read_points_csv(file, '\\t')\n",
      "    \n",
      "p = it.centerpoint(s)\n",
      "p1 = cl.centerpoint(s)\n",
      "p2 = cl2.centerpoint(s)\n",
      "\n",
      "s = np.asarray(s)\n",
      "\n",
      "fig = plt.figure()\n",
      "ax = fig.add_subplot(111, projection=\"3d\")\n",
      "ax.scatter(s[:,0],s[:,1],s[:,2], c='b', s=15)\n",
      "ax.scatter(*p, s=25, c='red')\n",
      "ax.scatter(*p1, s=25, c='yellow')\n",
      "ax.scatter(*p2, s=25, c='orange')\n",
      "fig.savefig('normal_sphere.pdf')"
     ],
     "language": "python",
     "metadata": {},
     "outputs": [],
     "prompt_number": 30
    },
    {
     "cell_type": "code",
     "collapsed": false,
     "input": [
      "with open('./evaluation/sphere-2d-50-500.csv') as file:\n",
      "    s = cli.read_points_csv(file, '\\t')\n",
      "    \n",
      "p = it.centerpoint(s)\n",
      "p1 = cl.centerpoint(s)\n",
      "p2 = cl2.centerpoint(s)\n",
      "\n",
      "s = np.asarray(s)\n",
      "\n",
      "fig = plt.figure()\n",
      "ax = fig.add_subplot(111, projection=\"3d\")\n",
      "ax.scatter(s[:,0],s[:,1], c='b', s=15)\n",
      "ax.scatter(*p, s=25, c='red')\n",
      "ax.scatter(*p1, s=25, c='yellow')\n",
      "ax.scatter(*p2, s=25, c='orange')\n",
      "fig.savefig('ring.pdf')"
     ],
     "language": "python",
     "metadata": {},
     "outputs": [],
     "prompt_number": 35
    }
   ],
   "metadata": {}
  }
 ]
}