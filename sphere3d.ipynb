{
 "metadata": {
  "name": "",
  "signature": "sha256:d4a800efeef36ff27935a6582ee1ee42a24dc550e12c63b96d4058863de50aa2"
 },
 "nbformat": 3,
 "nbformat_minor": 0,
 "worksheets": [
  {
   "cells": [
    {
     "cell_type": "code",
     "collapsed": false,
     "input": [
      "%reload_ext autoreload\n",
      "%autoreload 2"
     ],
     "language": "python",
     "metadata": {},
     "outputs": [],
     "prompt_number": 25
    },
    {
     "cell_type": "code",
     "collapsed": false,
     "input": [
      "from centerpoints.helpers import sphere_points, random_sphere_points\n",
      "from centerpoints.iterated_tverberg import IteratedTverberg\n",
      "from centerpoints.clarkson import ClarksonAlgo\n",
      "import centerpoints.cli as cli\n",
      "import numpy as np\n",
      "import math\n",
      "from math import cos, sin, pi"
     ],
     "language": "python",
     "metadata": {},
     "outputs": [],
     "prompt_number": 26
    },
    {
     "cell_type": "code",
     "collapsed": false,
     "input": [
      "it = IteratedTverberg()\n",
      "cl = ClarksonAlgo()\n",
      "cl2 = ClarksonAlgo(True)"
     ],
     "language": "python",
     "metadata": {},
     "outputs": [],
     "prompt_number": 27
    },
    {
     "cell_type": "code",
     "collapsed": false,
     "input": [
      "import matplotlib\n",
      "matplotlib.use('PDF')\n",
      "import matplotlib.pyplot as plt\n",
      "from mpl_toolkits.mplot3d import Axes3D"
     ],
     "language": "python",
     "metadata": {},
     "outputs": [],
     "prompt_number": 28
    },
    {
     "cell_type": "code",
     "collapsed": false,
     "input": [
      "with open('./evaluation/sphere-3d-random-50-500.csv') as file:\n",
      "    s = cli.read_points_csv(file, '\\t')\n",
      "    \n",
      "p = it.centerpoint(s)\n",
      "p1 = cl.centerpoint(s)\n",
      "p2 = cl2.centerpoint(s)\n",
      "\n",
      "s = np.asarray(s)\n",
      "\n",
      "fig = plt.figure()\n",
      "ax = fig.add_subplot(111, projection=\"3d\")\n",
      "ax.scatter(s[:,0],s[:,1],s[:,2], c='b', s=15)\n",
      "ax.scatter(*p, s=25, c='red')\n",
      "ax.scatter(*p1, s=25, c='yellow')\n",
      "ax.scatter(*p2, s=25, c='orange')\n",
      "fig.savefig('random_sphere.pdf')"
     ],
     "language": "python",
     "metadata": {},
     "outputs": [],
     "prompt_number": 29
    },
    {
     "cell_type": "code",
     "collapsed": false,
     "input": [
      "with open('./evaluation/sphere-3d-50-500.csv') as file:\n",
      "    s = cli.read_points_csv(file, '\\t')\n",
      "    \n",
      "p = it.centerpoint(s)\n",
      "p1 = cl.centerpoint(s)\n",
      "p2 = cl2.centerpoint(s)\n",
      "\n",
      "s = np.asarray(s)\n",
      "\n",
      "fig = plt.figure()\n",
      "ax = fig.add_subplot(111, projection=\"3d\")\n",
      "ax.scatter(s[:,0],s[:,1],s[:,2], c='b', s=15)\n",
      "ax.scatter(*p, s=25, c='red')\n",
      "ax.scatter(*p1, s=25, c='yellow')\n",
      "ax.scatter(*p2, s=25, c='orange')\n",
      "fig.savefig('normal_sphere.pdf')"
     ],
     "language": "python",
     "metadata": {},
     "outputs": [],
     "prompt_number": 30
    },
    {
     "cell_type": "code",
     "collapsed": false,
     "input": [
      "with open('./evaluation/sphere-2d-50-500.csv') as file:\n",
      "    s = cli.read_points_csv(file, '\\t')\n",
      "    \n",
      "p = it.centerpoint(s)\n",
      "p1 = cl.centerpoint(s)\n",
      "p2 = cl2.centerpoint(s)\n",
      "\n",
      "s = np.asarray(s)\n",
      "\n",
      "fig = plt.figure()\n",
      "ax = fig.add_subplot(111, projection=\"3d\")\n",
      "ax.scatter(s[:,0],s[:,1], c='b', s=15)\n",
      "ax.scatter(*p, s=25, c='red')\n",
      "ax.scatter(*p1, s=25, c='yellow')\n",
      "ax.scatter(*p2, s=25, c='orange')\n",
      "fig.savefig('ring.pdf')"
     ],
     "language": "python",
     "metadata": {},
     "outputs": [],
     "prompt_number": 35
    }
   ],
   "metadata": {}
  }
 ]
}